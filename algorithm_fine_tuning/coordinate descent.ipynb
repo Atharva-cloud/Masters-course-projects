{
 "cells": [
  {
   "cell_type": "code",
   "execution_count": 25,
   "id": "750b83ad",
   "metadata": {},
   "outputs": [],
   "source": [
    "from sklearn.linear_model import LogisticRegression\n",
    "from sklearn.metrics import log_loss\n",
    "from sklearn.preprocessing import StandardScaler\n",
    "import numpy as np\n",
    "import math\n",
    "import random\n",
    "random.seed(0)\n",
    "np.random.seed(0)\n",
    "import warnings \n",
    "warnings.filterwarnings('ignore')"
   ]
  },
  {
   "cell_type": "code",
   "execution_count": 26,
   "id": "a960cdd7",
   "metadata": {},
   "outputs": [],
   "source": [
    "x_train, y_train = [], []\n",
    "with open('wine.data') as f:\n",
    "    for line in f.readlines():\n",
    "        split_line = line.split(',')\n",
    "        split_line[-1] = split_line[-1].replace('\\n', '')\n",
    "        label = int(split_line[0])\n",
    "        feats = [float(x) for x in split_line[1:]]\n",
    "        if label == 1 or label == 2:\n",
    "            x_train.append(feats)\n",
    "            if label == 1:\n",
    "                label = -1\n",
    "            else:\n",
    "                label = 1\n",
    "            y_train.append(label)"
   ]
  },
  {
   "cell_type": "code",
   "execution_count": 27,
   "id": "8daf9a80",
   "metadata": {},
   "outputs": [],
   "source": [
    "scaler = StandardScaler()\n",
    "scaler.fit(x_train)\n",
    "scaled_x_train = scaler.transform(x_train)"
   ]
  },
  {
   "cell_type": "code",
   "execution_count": 28,
   "id": "1c8611ab",
   "metadata": {},
   "outputs": [],
   "source": [
    "lr_clf = LogisticRegression(penalty=\"none\",verbose=0, fit_intercept=False)"
   ]
  },
  {
   "cell_type": "code",
   "execution_count": 29,
   "id": "3b329799",
   "metadata": {},
   "outputs": [
    {
     "data": {
      "text/html": [
       "<style>#sk-container-id-2 {color: black;}#sk-container-id-2 pre{padding: 0;}#sk-container-id-2 div.sk-toggleable {background-color: white;}#sk-container-id-2 label.sk-toggleable__label {cursor: pointer;display: block;width: 100%;margin-bottom: 0;padding: 0.3em;box-sizing: border-box;text-align: center;}#sk-container-id-2 label.sk-toggleable__label-arrow:before {content: \"▸\";float: left;margin-right: 0.25em;color: #696969;}#sk-container-id-2 label.sk-toggleable__label-arrow:hover:before {color: black;}#sk-container-id-2 div.sk-estimator:hover label.sk-toggleable__label-arrow:before {color: black;}#sk-container-id-2 div.sk-toggleable__content {max-height: 0;max-width: 0;overflow: hidden;text-align: left;background-color: #f0f8ff;}#sk-container-id-2 div.sk-toggleable__content pre {margin: 0.2em;color: black;border-radius: 0.25em;background-color: #f0f8ff;}#sk-container-id-2 input.sk-toggleable__control:checked~div.sk-toggleable__content {max-height: 200px;max-width: 100%;overflow: auto;}#sk-container-id-2 input.sk-toggleable__control:checked~label.sk-toggleable__label-arrow:before {content: \"▾\";}#sk-container-id-2 div.sk-estimator input.sk-toggleable__control:checked~label.sk-toggleable__label {background-color: #d4ebff;}#sk-container-id-2 div.sk-label input.sk-toggleable__control:checked~label.sk-toggleable__label {background-color: #d4ebff;}#sk-container-id-2 input.sk-hidden--visually {border: 0;clip: rect(1px 1px 1px 1px);clip: rect(1px, 1px, 1px, 1px);height: 1px;margin: -1px;overflow: hidden;padding: 0;position: absolute;width: 1px;}#sk-container-id-2 div.sk-estimator {font-family: monospace;background-color: #f0f8ff;border: 1px dotted black;border-radius: 0.25em;box-sizing: border-box;margin-bottom: 0.5em;}#sk-container-id-2 div.sk-estimator:hover {background-color: #d4ebff;}#sk-container-id-2 div.sk-parallel-item::after {content: \"\";width: 100%;border-bottom: 1px solid gray;flex-grow: 1;}#sk-container-id-2 div.sk-label:hover label.sk-toggleable__label {background-color: #d4ebff;}#sk-container-id-2 div.sk-serial::before {content: \"\";position: absolute;border-left: 1px solid gray;box-sizing: border-box;top: 0;bottom: 0;left: 50%;z-index: 0;}#sk-container-id-2 div.sk-serial {display: flex;flex-direction: column;align-items: center;background-color: white;padding-right: 0.2em;padding-left: 0.2em;position: relative;}#sk-container-id-2 div.sk-item {position: relative;z-index: 1;}#sk-container-id-2 div.sk-parallel {display: flex;align-items: stretch;justify-content: center;background-color: white;position: relative;}#sk-container-id-2 div.sk-item::before, #sk-container-id-2 div.sk-parallel-item::before {content: \"\";position: absolute;border-left: 1px solid gray;box-sizing: border-box;top: 0;bottom: 0;left: 50%;z-index: -1;}#sk-container-id-2 div.sk-parallel-item {display: flex;flex-direction: column;z-index: 1;position: relative;background-color: white;}#sk-container-id-2 div.sk-parallel-item:first-child::after {align-self: flex-end;width: 50%;}#sk-container-id-2 div.sk-parallel-item:last-child::after {align-self: flex-start;width: 50%;}#sk-container-id-2 div.sk-parallel-item:only-child::after {width: 0;}#sk-container-id-2 div.sk-dashed-wrapped {border: 1px dashed gray;margin: 0 0.4em 0.5em 0.4em;box-sizing: border-box;padding-bottom: 0.4em;background-color: white;}#sk-container-id-2 div.sk-label label {font-family: monospace;font-weight: bold;display: inline-block;line-height: 1.2em;}#sk-container-id-2 div.sk-label-container {text-align: center;}#sk-container-id-2 div.sk-container {/* jupyter's `normalize.less` sets `[hidden] { display: none; }` but bootstrap.min.css set `[hidden] { display: none !important; }` so we also need the `!important` here to be able to override the default hidden behavior on the sphinx rendered scikit-learn.org. See: https://github.com/scikit-learn/scikit-learn/issues/21755 */display: inline-block !important;position: relative;}#sk-container-id-2 div.sk-text-repr-fallback {display: none;}</style><div id=\"sk-container-id-2\" class=\"sk-top-container\"><div class=\"sk-text-repr-fallback\"><pre>LogisticRegression(fit_intercept=False, penalty=&#x27;none&#x27;)</pre><b>In a Jupyter environment, please rerun this cell to show the HTML representation or trust the notebook. <br />On GitHub, the HTML representation is unable to render, please try loading this page with nbviewer.org.</b></div><div class=\"sk-container\" hidden><div class=\"sk-item\"><div class=\"sk-estimator sk-toggleable\"><input class=\"sk-toggleable__control sk-hidden--visually\" id=\"sk-estimator-id-2\" type=\"checkbox\" checked><label for=\"sk-estimator-id-2\" class=\"sk-toggleable__label sk-toggleable__label-arrow\">LogisticRegression</label><div class=\"sk-toggleable__content\"><pre>LogisticRegression(fit_intercept=False, penalty=&#x27;none&#x27;)</pre></div></div></div></div></div>"
      ],
      "text/plain": [
       "LogisticRegression(fit_intercept=False, penalty='none')"
      ]
     },
     "execution_count": 29,
     "metadata": {},
     "output_type": "execute_result"
    }
   ],
   "source": [
    "lr_clf.fit(scaled_x_train, y_train)"
   ]
  },
  {
   "cell_type": "code",
   "execution_count": 10,
   "id": "572b3d0b",
   "metadata": {},
   "outputs": [],
   "source": [
    "def loss_f(weights, x_t, y_t):\n",
    "    loss = 0\n",
    "    for i in range(len(x_t)):\n",
    "        loss += math.log(1 + math.exp(-y_t[i] * np.dot(weights, x_t[i])))\n",
    "    return loss"
   ]
  },
  {
   "cell_type": "code",
   "execution_count": 11,
   "id": "25c9a916",
   "metadata": {},
   "outputs": [
    {
     "name": "stdout",
     "output_type": "stream",
     "text": [
      "0.0002793446179289648\n"
     ]
    }
   ],
   "source": [
    "coefs = lr_clf.coef_\n",
    "l_star = loss_f(coefs[0], scaled_x_train, y_train)\n",
    "print(l_star)"
   ]
  },
  {
   "cell_type": "code",
   "execution_count": 12,
   "id": "c506b071",
   "metadata": {},
   "outputs": [],
   "source": [
    "def calculate_gradient(coord, weights, x_t, y_t):\n",
    "    grad = 0\n",
    "    for i in range(len(x_t)):\n",
    "        grad += -(y_t[i] * x_t[i][coord]) / (1 + math.exp(y_t[i]*np.dot(weights, x_t[i])))\n",
    "    return grad"
   ]
  },
  {
   "cell_type": "code",
   "execution_count": 13,
   "id": "77e43f11",
   "metadata": {},
   "outputs": [],
   "source": [
    "def random_cd(x_t, y_t, lr =1e-1):\n",
    "    losses = []\n",
    "    updates = []\n",
    "    prev_loss = 1e8\n",
    "    weights = [0] * len(x_t[0])\n",
    "    i=1\n",
    "    count = 0\n",
    "    indices = range(13)\n",
    "    while True:\n",
    "        coord_to_update = random.sample(indices,1)[0]\n",
    "        grad = calculate_gradient(coord_to_update, weights, x_t, y_t)\n",
    "        weights[coord_to_update] = weights[coord_to_update] - lr*grad\n",
    "        loss = loss_f(weights, x_t, y_t)\n",
    "        losses.append(loss)\n",
    "        updates.append(i)\n",
    "        if prev_loss - loss > 1e-7:\n",
    "            count=0\n",
    "        else:\n",
    "            count+=1\n",
    "        if i==50000:\n",
    "            break\n",
    "        if count==10:\n",
    "            break\n",
    "        prev_loss = loss\n",
    "        i+=1\n",
    "\n",
    "        \n",
    "    return weights, losses, updates"
   ]
  },
  {
   "cell_type": "code",
   "execution_count": 14,
   "id": "8a15ff3e",
   "metadata": {},
   "outputs": [],
   "source": [
    "random_coord_weights, losses, updates = random_cd(scaled_x_train, y_train)"
   ]
  },
  {
   "cell_type": "code",
   "execution_count": 15,
   "id": "7e197ee0",
   "metadata": {},
   "outputs": [
    {
     "name": "stdout",
     "output_type": "stream",
     "text": [
      "0.01956980028118074\n"
     ]
    }
   ],
   "source": [
    "print(losses[-1])"
   ]
  },
  {
   "cell_type": "code",
   "execution_count": 16,
   "id": "e77f5469",
   "metadata": {},
   "outputs": [],
   "source": [
    "def greedy_cd(x_t, y_t, lr =1e-1):\n",
    "    losses = []\n",
    "    updates = []\n",
    "    prev_loss = 1e8\n",
    "    weights = [0] * len(x_t[0])\n",
    "    i=1\n",
    "    count = 0\n",
    "    indices = range(13)\n",
    "    while True:\n",
    "        grads = [calculate_gradient(i, weights, x_t, y_t) for i in range(len(weights))]\n",
    "        abs_grads = [abs(grad) for grad in grads]\n",
    "        coord_to_update = np.argmax(abs_grads)\n",
    "        weights[coord_to_update] = weights[coord_to_update] - lr*grads[coord_to_update]\n",
    "        loss = loss_f(weights, x_t, y_t)\n",
    "        losses.append(loss)\n",
    "        updates.append(i)\n",
    "        if prev_loss - loss > 1e-7:\n",
    "            count=0\n",
    "        else:\n",
    "            count+=1\n",
    "        if i==50000:\n",
    "            break\n",
    "        if count==10:\n",
    "            break\n",
    "        prev_loss = loss\n",
    "        i+=1\n",
    "\n",
    "        \n",
    "    return weights, losses, updates"
   ]
  },
  {
   "cell_type": "code",
   "execution_count": 17,
   "id": "32877959",
   "metadata": {},
   "outputs": [
    {
     "name": "stdout",
     "output_type": "stream",
     "text": [
      "0.0052062996061273265\n"
     ]
    }
   ],
   "source": [
    "greedy_coord_weights, greedy_losses, greedy_updates = greedy_cd(scaled_x_train, y_train)\n",
    "print(greedy_losses[-1])"
   ]
  },
  {
   "cell_type": "code",
   "execution_count": 18,
   "id": "0966771f",
   "metadata": {},
   "outputs": [],
   "source": [
    "import matplotlib.pyplot as plt"
   ]
  },
  {
   "cell_type": "code",
   "execution_count": 19,
   "id": "30d50da2",
   "metadata": {},
   "outputs": [
    {
     "data": {
      "image/png": "[encoded data removed]",
      "text/plain": [
       "<Figure size 800x600 with 1 Axes>"
      ]
     },
     "metadata": {},
     "output_type": "display_data"
    }
   ],
   "source": [
    "plt.figure(figsize=(8,6))\n",
    "plt.plot(updates[100:], losses[100:], label= 'Random Coordinate Descent')\n",
    "plt.plot(greedy_updates[100:], greedy_losses[100:], label = 'Greedy Coordinate Descent')\n",
    "plt.axhline(0.00027934, ls='--')\n",
    "plt.legend()\n",
    "plt.xlabel('Weight updates (Iterations)')\n",
    "plt.ylabel('Log loss')\n",
    "plt.title(\"Log Loss vs Iterations\")\n",
    "plt.show()"
   ]
  },
  {
   "cell_type": "code",
   "execution_count": null,
   "id": "3bcf9f65",
   "metadata": {},
   "outputs": [],
   "source": []
  }
 ],
 "metadata": {
  "kernelspec": {
   "display_name": "python3",
   "language": "python",
   "name": "python3"
  },
  "language_info": {
   "codemirror_mode": {
    "name": "ipython",
    "version": 3
   },
   "file_extension": ".py",
   "mimetype": "text/x-python",
   "name": "python",
   "nbconvert_exporter": "python",
   "pygments_lexer": "ipython3",
   "version": "3.8.17"
  }
 },
 "nbformat": 4,
 "nbformat_minor": 5
}
